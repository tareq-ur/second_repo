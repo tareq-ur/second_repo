{
 "cells": [
  {
   "cell_type": "code",
   "execution_count": 2,
   "id": "36846d2d",
   "metadata": {},
   "outputs": [
    {
     "name": "stdout",
     "output_type": "stream",
     "text": [
      "hello world\n"
     ]
    }
   ],
   "source": [
    "print(\"hello world\")\n"
   ]
  },
  {
   "cell_type": "code",
   "execution_count": 3,
   "id": "2c216437",
   "metadata": {},
   "outputs": [
    {
     "name": "stdout",
     "output_type": "stream",
     "text": [
      "[1 2 3 4 5]\n"
     ]
    }
   ],
   "source": [
    "import numpy as np\n",
    "num_array = np.array([1, 2, 3, 4, 5])\n",
    "print(num_array)\n"
   ]
  },
  {
   "cell_type": "code",
   "execution_count": null,
   "id": "2d3e6b86",
   "metadata": {},
   "outputs": [
    {
     "name": "stdout",
     "output_type": "stream",
     "text": [
      "[[0 0 0 0]\n",
      " [0 0 0 0]\n",
      " [0 0 0 0]]\n"
     ]
    }
   ],
   "source": [
    "# create an array of zeros\n",
    "zero_array = np.zeros(\n",
    "    shape=(3, 4),  # shape of the array (3 rows, 4 columns)\n",
    "    dtype=np.int32,  # data type of the array elements (32-bit integer)\n",
    "    order='C'  # memory layout order (C-style row-major order)\n",
    ")\n",
    "print(zero_array)"
   ]
  }
 ],
 "metadata": {
  "kernelspec": {
   "display_name": "Python 3",
   "language": "python",
   "name": "python3"
  },
  "language_info": {
   "codemirror_mode": {
    "name": "ipython",
    "version": 3
   },
   "file_extension": ".py",
   "mimetype": "text/x-python",
   "name": "python",
   "nbconvert_exporter": "python",
   "pygments_lexer": "ipython3",
   "version": "3.13.1"
  }
 },
 "nbformat": 4,
 "nbformat_minor": 5
}
