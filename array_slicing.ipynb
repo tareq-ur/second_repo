{
 "cells": [
  {
   "cell_type": "code",
   "execution_count": 3,
   "id": "beb2aba5",
   "metadata": {},
   "outputs": [
    {
     "name": "stdout",
     "output_type": "stream",
     "text": [
      "[[5 7]\n",
      " [6 8]]\n"
     ]
    }
   ],
   "source": [
    "import numpy as np\n",
    "slc_array = np.array(\n",
    "   [[2,3,4,5],\n",
    "    [3,4,6,8],\n",
    "    [4,5,7,9],\n",
    "    [5,6,8,10]]\n",
    ")\n",
    "print (slc_array[2:4,1:3 ])"
   ]
  },
  {
   "cell_type": "code",
   "execution_count": 4,
   "id": "223f3f3e",
   "metadata": {},
   "outputs": [
    {
     "name": "stdout",
     "output_type": "stream",
     "text": [
      "[[6]\n",
      " [7]\n",
      " [8]]\n"
     ]
    }
   ],
   "source": [
    "import numpy as np\n",
    "slc_array = np.array(\n",
    "   [[2,3,4,5],\n",
    "    [3,4,6,8],\n",
    "    [4,5,7,9],\n",
    "    [5,6,8,10]]\n",
    ")\n",
    "print (slc_array[1:4,2:3 ])"
   ]
  },
  {
   "cell_type": "code",
   "execution_count": 5,
   "id": "565d507d",
   "metadata": {},
   "outputs": [
    {
     "name": "stdout",
     "output_type": "stream",
     "text": [
      "int64\n",
      "(4, 4)\n",
      "2\n"
     ]
    }
   ],
   "source": [
    "print (slc_array.dtype)\n",
    "print (slc_array.shape)\n",
    "print (slc_array.ndim)"
   ]
  },
  {
   "cell_type": "code",
   "execution_count": 6,
   "id": "3db08069",
   "metadata": {},
   "outputs": [
    {
     "data": {
      "text/plain": [
       "array([[0, 0, 0, 0],\n",
       "       [0, 0, 0, 0],\n",
       "       [0, 0, 0, 0],\n",
       "       [0, 0, 0, 0]])"
      ]
     },
     "execution_count": 6,
     "metadata": {},
     "output_type": "execute_result"
    }
   ],
   "source": [
    "zeros= np.zeros(\n",
    "    shape= (4,4),\n",
    "    dtype= np.int64,\n",
    "    )\n",
    "zeros"
   ]
  },
  {
   "cell_type": "code",
   "execution_count": 7,
   "id": "8bdbfe63",
   "metadata": {},
   "outputs": [
    {
     "data": {
      "text/plain": [
       "array([[10, 10, 10, 10, 10],\n",
       "       [10, 10, 10, 10, 10],\n",
       "       [10, 10, 10, 10, 10],\n",
       "       [10, 10, 10, 10, 10],\n",
       "       [10, 10, 10, 10, 10]])"
      ]
     },
     "execution_count": 7,
     "metadata": {},
     "output_type": "execute_result"
    }
   ],
   "source": [
    "fixed = np.full(\n",
    "    shape= (5,5),\n",
    "    fill_value = 10,\n",
    "    dtype= np.int64,\n",
    ")\n",
    "fixed"
   ]
  }
 ],
 "metadata": {
  "kernelspec": {
   "display_name": "Python 3",
   "language": "python",
   "name": "python3"
  },
  "language_info": {
   "codemirror_mode": {
    "name": "ipython",
    "version": 3
   },
   "file_extension": ".py",
   "mimetype": "text/x-python",
   "name": "python",
   "nbconvert_exporter": "python",
   "pygments_lexer": "ipython3",
   "version": "3.13.1"
  }
 },
 "nbformat": 4,
 "nbformat_minor": 5
}
