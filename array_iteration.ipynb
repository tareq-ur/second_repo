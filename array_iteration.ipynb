{
 "cells": [
  {
   "cell_type": "code",
   "execution_count": 6,
   "id": "7bdb9eb4",
   "metadata": {},
   "outputs": [
    {
     "name": "stdout",
     "output_type": "stream",
     "text": [
      "[7 1 2 3 4 5]\n"
     ]
    }
   ],
   "source": [
    "import numpy as np\n",
    "iter_num = np.array([7, 1, 2, 3, 4, 5])\n",
    "print( iter_num)"
   ]
  },
  {
   "cell_type": "code",
   "execution_count": 7,
   "id": "b4601591",
   "metadata": {},
   "outputs": [
    {
     "name": "stdout",
     "output_type": "stream",
     "text": [
      "7\n",
      "1\n",
      "2\n",
      "3\n",
      "4\n",
      "5\n"
     ]
    }
   ],
   "source": [
    "#option 01\n",
    "for i in iter_num:\n",
    "    print(i)"
   ]
  },
  {
   "cell_type": "code",
   "execution_count": 8,
   "id": "373ee44b",
   "metadata": {},
   "outputs": [
    {
     "name": "stdout",
     "output_type": "stream",
     "text": [
      "7\n",
      "1\n",
      "2\n",
      "3\n",
      "4\n",
      "5\n"
     ]
    }
   ],
   "source": [
    "#option 02\n",
    "for i in range(len(iter_num)):\n",
    "    print(iter_num[i])"
   ]
  },
  {
   "cell_type": "code",
   "execution_count": 9,
   "id": "04d88b74",
   "metadata": {},
   "outputs": [
    {
     "name": "stdout",
     "output_type": "stream",
     "text": [
      "(0, np.int64(7)) [7 1 2 3 4 5]\n",
      "(1, np.int64(1)) [7 1 2 3 4 5]\n",
      "(2, np.int64(2)) [7 1 2 3 4 5]\n",
      "(3, np.int64(3)) [7 1 2 3 4 5]\n",
      "(4, np.int64(4)) [7 1 2 3 4 5]\n",
      "(5, np.int64(5)) [7 1 2 3 4 5]\n"
     ]
    }
   ],
   "source": [
    "#option 03\n",
    "for i in enumerate(iter_num):\n",
    "    print(i, iter_num )"
   ]
  },
  {
   "cell_type": "code",
   "execution_count": 10,
   "id": "6cdf5fdb",
   "metadata": {},
   "outputs": [
    {
     "name": "stdout",
     "output_type": "stream",
     "text": [
      "index (0, np.int64(7)) ,  value(0, np.int64(7))\n",
      "index (1, np.int64(1)) ,  value(1, np.int64(1))\n",
      "index (2, np.int64(2)) ,  value(2, np.int64(2))\n",
      "index (3, np.int64(3)) ,  value(3, np.int64(3))\n",
      "index (4, np.int64(4)) ,  value(4, np.int64(4))\n",
      "index (5, np.int64(5)) ,  value(5, np.int64(5))\n"
     ]
    }
   ],
   "source": [
    "#option 04\n",
    "for i in enumerate(iter_num):\n",
    "    print(f\"index {i} ,  value{i}\")"
   ]
  },
  {
   "cell_type": "code",
   "execution_count": 13,
   "id": "be8a59e8",
   "metadata": {},
   "outputs": [
    {
     "name": "stdout",
     "output_type": "stream",
     "text": [
      "1\n",
      "3\n",
      "5\n",
      "7\n",
      "2\n",
      "3\n",
      "45\n",
      "1\n",
      "3\n",
      "5\n",
      "7\n",
      "2\n",
      "3\n",
      "45\n",
      "(0, np.int64(1)) [ 1  3  5  7  2  3 45]\n",
      "(1, np.int64(3)) [ 1  3  5  7  2  3 45]\n",
      "(2, np.int64(5)) [ 1  3  5  7  2  3 45]\n",
      "(3, np.int64(7)) [ 1  3  5  7  2  3 45]\n",
      "(4, np.int64(2)) [ 1  3  5  7  2  3 45]\n",
      "(5, np.int64(3)) [ 1  3  5  7  2  3 45]\n",
      "(6, np.int64(45)) [ 1  3  5  7  2  3 45]\n"
     ]
    }
   ],
   "source": [
    "\n",
    "num_array = np.array([1,3,5,7,2,3,45])\n",
    "\n",
    "for i in num_array:\n",
    "    \n",
    "    print(i)\n",
    "\n",
    "#option 01\n",
    "\n",
    "for i in range(len(num_array)):\n",
    "    print(num_array[i])\n",
    "\n",
    "\n",
    "#option 02\n",
    "for i in enumerate(num_array):\n",
    "    print(i, num_array)"
   ]
  }
 ],
 "metadata": {
  "kernelspec": {
   "display_name": "Python 3",
   "language": "python",
   "name": "python3"
  },
  "language_info": {
   "codemirror_mode": {
    "name": "ipython",
    "version": 3
   },
   "file_extension": ".py",
   "mimetype": "text/x-python",
   "name": "python",
   "nbconvert_exporter": "python",
   "pygments_lexer": "ipython3",
   "version": "3.13.1"
  }
 },
 "nbformat": 4,
 "nbformat_minor": 5
}
