{
 "cells": [
  {
   "cell_type": "code",
   "execution_count": 38,
   "id": "b06803c4",
   "metadata": {},
   "outputs": [
    {
     "name": "stdout",
     "output_type": "stream",
     "text": [
      "[ 1  2  3  4  5  6  7  8  9 10]\n"
     ]
    }
   ],
   "source": [
    "import numpy as np\n",
    "sorting = np.array( [3,4,6,7,1,2,5,8,9,10])\n",
    "sorting.sort()\n",
    "print(sorting)\n",
    "# sorting.reshape((2,5))\n",
    "# sorting = sorting.reshape((2,5))\n",
    "# print(sorting)\n",
    "\n"
   ]
  },
  {
   "cell_type": "code",
   "execution_count": 37,
   "id": "929974ab",
   "metadata": {},
   "outputs": [
    {
     "name": "stdout",
     "output_type": "stream",
     "text": [
      "[22 11 90 78 56 34 12 23 45 54]\n"
     ]
    }
   ],
   "source": [
    "reversed = np.array(\n",
    "    [54,45,23,12,34,56,78,90,11,22]\n",
    "\n",
    "\n",
    ")\n",
    "rvrst = np.flip(reversed)\n",
    "print(rvrst)"
   ]
  },
  {
   "cell_type": "code",
   "execution_count": 39,
   "id": "4fc76a37",
   "metadata": {},
   "outputs": [
    {
     "name": "stdout",
     "output_type": "stream",
     "text": [
      "[78  6  5  4  4  3  3  2  2]\n"
     ]
    }
   ],
   "source": [
    "reverser_array = np.array([3,4,2,3,4,5,6,78,2]\n",
    ")\n",
    "reverser_array.sort()\n",
    "reverser_sort_array = reverser_array[::-1]\n",
    "print(reverser_sort_array)"
   ]
  }
 ],
 "metadata": {
  "kernelspec": {
   "display_name": "Python 3",
   "language": "python",
   "name": "python3"
  },
  "language_info": {
   "codemirror_mode": {
    "name": "ipython",
    "version": 3
   },
   "file_extension": ".py",
   "mimetype": "text/x-python",
   "name": "python",
   "nbconvert_exporter": "python",
   "pygments_lexer": "ipython3",
   "version": "3.13.1"
  }
 },
 "nbformat": 4,
 "nbformat_minor": 5
}
